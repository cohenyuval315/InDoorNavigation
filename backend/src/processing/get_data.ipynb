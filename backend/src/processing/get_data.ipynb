{
 "cells": [
  {
   "cell_type": "code",
   "execution_count": 22,
   "metadata": {},
   "outputs": [],
   "source": [
    "import datetime\n",
    "import requests\n",
    "import csv "
   ]
  },
  {
   "cell_type": "code",
   "execution_count": 23,
   "metadata": {},
   "outputs": [],
   "source": [
    "buildingId = \"e384f534f12c984588d8868e\"\n",
    "SERVER_HOST = '192.168.181.225'\n",
    "SERVER_HOST = 'localhost'\n",
    "SERVER_PORT = 3000\n",
    "SERVER_URL = f\"http://{SERVER_HOST}:{SERVER_PORT}\""
   ]
  },
  {
   "cell_type": "code",
   "execution_count": 24,
   "metadata": {},
   "outputs": [],
   "source": [
    "\n",
    "def server_request(method, path,json=None):\n",
    "    base = '/admin'\n",
    "    uri = SERVER_URL + base + path \n",
    "    response = requests.request(method,uri,json=json)\n",
    "    return response\n",
    "\n",
    "def parse_date(date_str):\n",
    "    return datetime.datetime.fromisoformat(date_str.replace('Z', '+00:00'))\n"
   ]
  },
  {
   "cell_type": "code",
   "execution_count": 25,
   "metadata": {},
   "outputs": [],
   "source": [
    "\n",
    "routeName = \"\"\n",
    "version = \"v2\""
   ]
  },
  {
   "cell_type": "code",
   "execution_count": 26,
   "metadata": {},
   "outputs": [],
   "source": [
    "def get_routes_titles():\n",
    "    get_routes_titles = f\"/processing/routes/{buildingId}/titles\"\n",
    "    response = server_request('GET', get_routes_titles)\n",
    "    return response.json()\n"
   ]
  },
  {
   "cell_type": "code",
   "execution_count": 27,
   "metadata": {},
   "outputs": [],
   "source": [
    "def get_all_points():\n",
    "    get_all_points =  f\"/processing/map/{buildingId}\"\n",
    "    response = server_request('GET', get_all_points)\n",
    "    res = response.json()\n",
    "    data= res['data']\n",
    "    specific_date = datetime.datetime(2024, 6, 17, tzinfo=datetime.timezone.utc)\n",
    "    filtered_data = [d for d in data if parse_date(d['createdAt']) > specific_date]\n",
    "    return filtered_data"
   ]
  },
  {
   "cell_type": "code",
   "execution_count": null,
   "metadata": {},
   "outputs": [],
   "source": [
    "\n"
   ]
  },
  {
   "cell_type": "code",
   "execution_count": null,
   "metadata": {},
   "outputs": [],
   "source": []
  },
  {
   "cell_type": "code",
   "execution_count": null,
   "metadata": {},
   "outputs": [],
   "source": []
  },
  {
   "cell_type": "code",
   "execution_count": 29,
   "metadata": {},
   "outputs": [],
   "source": [
    "import json\n",
    "raw_points_data_filename =  \"points.json\"\n",
    "filtered_data = get_all_points()\n",
    "json_data = json.dumps(filtered_data, indent=4) \n",
    "with open(raw_points_data_filename, 'w') as f:\n",
    "    f.write(json_data)"
   ]
  },
  {
   "cell_type": "code",
   "execution_count": null,
   "metadata": {},
   "outputs": [],
   "source": []
  },
  {
   "cell_type": "code",
   "execution_count": 18,
   "metadata": {},
   "outputs": [
    {
     "data": {
      "text/plain": [
       "177"
      ]
     },
     "execution_count": 18,
     "metadata": {},
     "output_type": "execute_result"
    }
   ],
   "source": [
    "rows = []\n",
    "for f in filtered_data:    \n",
    "    v = f['version']\n",
    "    bid = f['buildingId']\n",
    "    uplo = f['createdAt']\n",
    "    for point in f['points']:\n",
    "        x, y, floor = point['x'], point['y'], point['floor']\n",
    "        if point['magnetometerData']:\n",
    "            m = point['magnetometerData']\n",
    "            md = m['data']\n",
    "            mx = md['x']\n",
    "            my=md['y']\n",
    "            mz = md['z']\n",
    "        else:\n",
    "            m = None\n",
    "            md = None\n",
    "            mx = None\n",
    "            my = None\n",
    "            mz = None\n",
    "        if point['magnetometerUncalibData']:\n",
    "            mu = point['magnetometerUncalibData']\n",
    "            mud = mu['data']\n",
    "            y_bias = mud['y_bias']\n",
    "            x_bias = mud['x_bias']\n",
    "            z_uncalib = mud['z_uncalib']\n",
    "            z_bias = mud['z_bias']\n",
    "            y_uncalib = mud['y_uncalib']\n",
    "            x_uncalib = mud['x_uncalib']\n",
    "        else:\n",
    "            mu = None\n",
    "            mud = None\n",
    "            y_bias = None\n",
    "            x_bias = None\n",
    "            z_uncalib = None\n",
    "            z_bias = None\n",
    "            y_uncalib = None\n",
    "            x_uncalib = None\n",
    "        \n",
    "        rows.append([v,bid , x, y, floor, mx,my,mz,y_bias,x_bias,z_uncalib,z_bias,y_uncalib,x_uncalib,uplo])\n",
    "len(rows)"
   ]
  },
  {
   "cell_type": "code",
   "execution_count": 19,
   "metadata": {},
   "outputs": [
    {
     "name": "stdout",
     "output_type": "stream",
     "text": [
      "Data successfully written to mag_data.csv\n"
     ]
    }
   ],
   "source": [
    "csv_file = 'mag_data.csv'\n",
    "with open(csv_file, mode='w', newline='') as file:\n",
    "    writer = csv.writer(file)\n",
    "    writer.writerow(['version','buildingId','x', 'y', 'floor', \"mx\",\"my\",\"mz\",\"my_bias\",\"mx_bias\",\"mz_uncalib\",\"mz_bias\",\"my_uncalib\",\"mx_uncalib\",'uploaddAt']) \n",
    "    writer.writerows(rows)\n",
    "print(f'Data successfully written to {csv_file}')"
   ]
  },
  {
   "cell_type": "code",
   "execution_count": 50,
   "metadata": {},
   "outputs": [],
   "source": [
    "rows = []\n",
    "for f in filtered_data:    \n",
    "    v = f['version']\n",
    "    bid = f['buildingId']\n",
    "    uplo = f['createdAt']\n",
    "    for point in f['points']:\n",
    "        # if point['test']:\n",
    "        #     continue\n",
    "        x, y, floor = point['x'], point['y'], point['floor']\n",
    "        if point['gpsData']:\n",
    "            gps = point['gpsData']\n",
    "            co = gps['coords']\n",
    "            extra = gps['extras']\n",
    "\n",
    "            timestamp = gps['timestamp']            \n",
    "            acc = co['accuracy']\n",
    "            long = co['longitude']\n",
    "            la = co['latitude']\n",
    "            alt = co['altitude']\n",
    "            he = co['heading']\n",
    "            sp = co['speed']\n",
    "            meanCn = extra['meanCn0']\n",
    "            maxCn0 = extra['maxCn0']\n",
    "            satellites = extra['satellites']\n",
    "            rows.append([v,bid , x, y, floor, timestamp,acc,long,la,alt,he,sp,meanCn,maxCn0,satellites,uplo])\n",
    "        else:\n",
    "            rows.append([v, bid ,x,y,floor,None,None,None,None,None,None,None,None,None,None,uplo])\n",
    "len(rows)\n"
   ]
  },
  {
   "cell_type": "code",
   "execution_count": 52,
   "metadata": {},
   "outputs": [
    {
     "name": "stdout",
     "output_type": "stream",
     "text": [
      "Data successfully written to gps_data.csv\n"
     ]
    }
   ],
   "source": [
    "csv_file = 'gps_data.csv'\n",
    "with open(csv_file, mode='w', newline='') as file:\n",
    "    writer = csv.writer(file)\n",
    "    writer.writerow(['version','buildingId','x', 'y', 'floor', 'timestamp','accuracy','longitude','latitude','altitude','heading','speed','meanCn0','maxCn0','satellites','uploaddAt']) \n",
    "    writer.writerows(rows)\n",
    "print(f'Data successfully written to {csv_file}')"
   ]
  },
  {
   "cell_type": "code",
   "execution_count": 53,
   "metadata": {},
   "outputs": [],
   "source": [
    "rows = []\n",
    "for f in filtered_data:    \n",
    "    v = f['version']\n",
    "    bid = f['buildingId']\n",
    "    uplo = f['createdAt']\n",
    "    for point in f['points']:\n",
    "        x, y, floor = point['x'], point['y'], point['floor']\n",
    "        if point['wifiData']:\n",
    "            for wifi in point['wifiData']:\n",
    "                ssid = wifi['SSID']\n",
    "                level = wifi['level']\n",
    "                timestamp = wifi['timestamp']\n",
    "                frequency = wifi['frequency']\n",
    "                capabilities = wifi['capabilities']\n",
    "                bssid = wifi['BSSID']\n",
    "                \n",
    "                rows.append([v,bid,x, y, floor, ssid,level,timestamp,frequency,bssid,capabilities,uplo])\n",
    "len(rows)                "
   ]
  },
  {
   "cell_type": "code",
   "execution_count": 55,
   "metadata": {},
   "outputs": [
    {
     "name": "stdout",
     "output_type": "stream",
     "text": [
      "Data successfully written to wifi_data.csv\n"
     ]
    }
   ],
   "source": [
    "csv_file = 'wifi_data.csv'\n",
    "with open(csv_file, mode='w', newline='') as file:\n",
    "    writer = csv.writer(file)\n",
    "    writer.writerow(['version','buiildingId','x', 'y', 'floor', 'SSID', 'level','timestamp','frequency','BSSID','capabilities','uploadedAt'])  # Write header\n",
    "    writer.writerows(rows)\n",
    "print(f'Data successfully written to {csv_file}')"
   ]
  },
  {
   "cell_type": "code",
   "execution_count": null,
   "metadata": {},
   "outputs": [],
   "source": []
  },
  {
   "cell_type": "code",
   "execution_count": 31,
   "metadata": {},
   "outputs": [],
   "source": [
    "get_maps_route = f'/processing/map/{buildingId}'\n",
    "get_map_route = f'/processing/map/{buildingId}/{version}'\n",
    "create_map_route  = f'/processing/map/{buildingId}'\n",
    "create_path_route = f'/processing/route/{buildingId}'\n",
    "get_path_route = f'/processing/route/{buildingId}/{routeName}'\n",
    "get_paths_route = f'/processing/routes/{buildingId}'"
   ]
  },
  {
   "cell_type": "code",
   "execution_count": 33,
   "metadata": {},
   "outputs": [],
   "source": [
    "\n",
    "response = server_request('GET', get_paths_route)\n",
    "res = response.json()"
   ]
  },
  {
   "cell_type": "code",
   "execution_count": 35,
   "metadata": {},
   "outputs": [],
   "source": [
    "data = res['data']"
   ]
  },
  {
   "cell_type": "code",
   "execution_count": 36,
   "metadata": {},
   "outputs": [],
   "source": [
    "\n",
    "raw_routes_data_filename =  \"routes.json\"\n",
    "\n",
    "json_data = json.dumps(data, indent=4) \n",
    "with open(raw_routes_data_filename, 'w') as f:\n",
    "    f.write(json_data)"
   ]
  },
  {
   "cell_type": "code",
   "execution_count": 29,
   "metadata": {},
   "outputs": [
    {
     "data": {
      "text/plain": [
       "201"
      ]
     },
     "execution_count": 29,
     "metadata": {},
     "output_type": "execute_result"
    }
   ],
   "source": [
    "response = server_request('POST', create_map_route,json= {\n",
    "    'data' : {\n",
    "        \"buildingId\":buildingId,\n",
    "        \"version\":version,\n",
    "        'points':[]\n",
    "    }\n",
    "})\n",
    "response.status_code\n"
   ]
  },
  {
   "cell_type": "code",
   "execution_count": null,
   "metadata": {},
   "outputs": [],
   "source": []
  },
  {
   "cell_type": "code",
   "execution_count": 33,
   "metadata": {},
   "outputs": [
    {
     "data": {
      "text/plain": [
       "{'data': {'_id': '666b312a35d2c5b1c5c9c707',\n",
       "  'buildingId': 'E384F534F12C984588D8868E',\n",
       "  'version': 'v2',\n",
       "  'points': [],\n",
       "  '__v': 0,\n",
       "  'createdAt': '2024-06-13T17:49:30.242Z',\n",
       "  'updatedAt': '2024-06-13T17:49:30.242Z'}}"
      ]
     },
     "execution_count": 33,
     "metadata": {},
     "output_type": "execute_result"
    }
   ],
   "source": [
    "response = server_request('GET', get_map_route)\n",
    "response.json()\n"
   ]
  },
  {
   "cell_type": "code",
   "execution_count": 45,
   "metadata": {},
   "outputs": [
    {
     "data": {
      "text/plain": [
       "{'data': {'_id': '666b336535d2c5b1c5c9c74d',\n",
       "  'buildingId': 'e384f534f12c984588d8868e',\n",
       "  'version': 'v3',\n",
       "  'points': [],\n",
       "  '__v': 0,\n",
       "  'createdAt': '2024-06-13T17:59:01.842Z',\n",
       "  'updatedAt': '2024-06-13T17:59:01.842Z'}}"
      ]
     },
     "execution_count": 45,
     "metadata": {},
     "output_type": "execute_result"
    }
   ],
   "source": [
    "response = server_request('GET', f'/processing/map/{buildingId}/v3')\n",
    "response.json()"
   ]
  },
  {
   "cell_type": "code",
   "execution_count": 62,
   "metadata": {},
   "outputs": [
    {
     "name": "stdout",
     "output_type": "stream",
     "text": [
      "v5stairsoutsideleftfloorzero points 0\n",
      "( 37 , 95 )\n",
      "( 37 , 95 )\n",
      "( 37 , 95 )\n",
      "( 37 , 95 )\n",
      "( 37 , 160 )\n",
      "( 37 , 160 )\n",
      "( 37 , 160 )\n",
      "( 37 , 160 )\n",
      "( 52 , 220 )\n",
      "( 52 , 220 )\n",
      "( 52 , 220 )\n",
      "( 52 , 220 )\n",
      "v1 points 12\n",
      "( 730 , 496 )\n",
      "v3 points 1\n",
      "v4 points 0\n"
     ]
    }
   ],
   "source": [
    "response = server_request('GET', get_maps_route)\n",
    "s = response.json()\n",
    "data = s['data']\n",
    "for d in data:\n",
    "    print(d['version'], \"points\" , len(points))\n",
    "    points = d['points']\n",
    "    for point in points:\n",
    "        print(\"(\",point['x'], \",\",point['y'], \")\")"
   ]
  },
  {
   "cell_type": "code",
   "execution_count": 60,
   "metadata": {},
   "outputs": [
    {
     "name": "stdout",
     "output_type": "stream",
     "text": [
      "v5stairsoutsideleftfloorzero points 0\n",
      "( 37 , 95 )\n",
      "( 37 , 95 )\n",
      "( 37 , 95 )\n",
      "( 37 , 95 )\n",
      "( 37 , 160 )\n",
      "( 37 , 160 )\n",
      "( 37 , 160 )\n",
      "( 37 , 160 )\n",
      "( 52 , 220 )\n",
      "( 52 , 220 )\n",
      "( 52 , 220 )\n",
      "( 52 , 220 )\n",
      "v1 points 12\n",
      "( 730 , 496 )\n",
      "v3 points 1\n"
     ]
    }
   ],
   "source": [
    "\n",
    "    "
   ]
  }
 ],
 "metadata": {
  "kernelspec": {
   "display_name": "Python 3",
   "language": "python",
   "name": "python3"
  },
  "language_info": {
   "codemirror_mode": {
    "name": "ipython",
    "version": 3
   },
   "file_extension": ".py",
   "mimetype": "text/x-python",
   "name": "python",
   "nbconvert_exporter": "python",
   "pygments_lexer": "ipython3",
   "version": "3.10.12"
  }
 },
 "nbformat": 4,
 "nbformat_minor": 2
}
