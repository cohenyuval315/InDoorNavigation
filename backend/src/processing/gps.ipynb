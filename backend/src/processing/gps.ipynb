{
 "cells": [
  {
   "cell_type": "code",
   "execution_count": 18,
   "metadata": {},
   "outputs": [],
   "source": [
    "import pandas as pd\n",
    "import numpy as np\n"
   ]
  },
  {
   "cell_type": "code",
   "execution_count": 2,
   "metadata": {},
   "outputs": [],
   "source": [
    "csv_file = 'gps_data.csv'\n",
    "data = pd.read_csv(csv_file)"
   ]
  },
  {
   "cell_type": "code",
   "execution_count": 12,
   "metadata": {},
   "outputs": [],
   "source": [
    "i = data.loc[data['version'] == 'Yest'].index"
   ]
  },
  {
   "cell_type": "code",
   "execution_count": 16,
   "metadata": {},
   "outputs": [],
   "source": [
    "data = data.drop(i)"
   ]
  },
  {
   "cell_type": "code",
   "execution_count": 21,
   "metadata": {},
   "outputs": [
    {
     "name": "stdout",
     "output_type": "stream",
     "text": [
      "Leftmost-Topmost Point: (x:175, y:316, floor:-1, longitude: 34.81756666666667, latitude: 32.113205)\n",
      "Rightmost-Topmost Point: (x:1326, y:30, floor:0, longitude: 34.81849833333333, latitude: 32.11331833333334)\n",
      "Leftmost-Bottommost Point: (x:557, y:308, floor:0, longitude: 34.81800333333333, latitude: 32.113953333333335)\n"
     ]
    }
   ],
   "source": [
    "leftest_topest = data.loc[data['longitude'].idxmin()]  # Leftmost\n",
    "rightest_topest = data.loc[data['longitude'].idxmax()]  # Rightmost\n",
    "leftest_downest = data.loc[data['latitude'].idxmax()]  # Bottommost\n",
    "print(\"Leftmost-Topmost Point: (x:{}, y:{}, floor:{}, longitude: {}, latitude: {})\".format(leftest_topest['x'],leftest_topest['y'],leftest_topest['floor'],leftest_topest['longitude'], leftest_topest['latitude']))\n",
    "print(\"Rightmost-Topmost Point: (x:{}, y:{}, floor:{}, longitude: {}, latitude: {})\".format(rightest_topest['x'],rightest_topest['y'],rightest_topest['floor'],rightest_topest['longitude'], rightest_topest['latitude']))\n",
    "print(\"Leftmost-Bottommost Point: (x:{}, y:{}, floor:{}, longitude: {}, latitude: {})\".format(leftest_downest['x'],leftest_downest['y'],leftest_downest['floor'],leftest_downest['longitude'], leftest_downest['latitude']))\n"
   ]
  },
  {
   "cell_type": "code",
   "execution_count": 26,
   "metadata": {},
   "outputs": [
    {
     "data": {
      "text/plain": [
       "(x                    0\n",
       " y                   35\n",
       " longitude    34.817755\n",
       " latitude     32.113448\n",
       " Name: 24, dtype: object,\n",
       " x                 1326\n",
       " y                   30\n",
       " longitude    34.818498\n",
       " latitude     32.113318\n",
       " Name: 1, dtype: object,\n",
       " x                   35\n",
       " y                 1181\n",
       " longitude    34.817658\n",
       " latitude     32.112855\n",
       " Name: 167, dtype: object)"
      ]
     },
     "execution_count": 26,
     "metadata": {},
     "output_type": "execute_result"
    }
   ],
   "source": [
    "leftest_topest = data.loc[data['x'].idxmin()] # Leftmost\n",
    "rightest_topest = data.loc[data['x'].idxmax()] # Rightmost\n",
    "leftest_downest = data.loc[data['y'].idxmax()] # Bottommost\n",
    "leftest_topest[['x','y','longitude','latitude']],rightest_topest[['x','y','longitude','latitude']],leftest_downest[['x','y','longitude','latitude']]"
   ]
  },
  {
   "cell_type": "code",
   "execution_count": 39,
   "metadata": {},
   "outputs": [
    {
     "name": "stdout",
     "output_type": "stream",
     "text": [
      "{'x': 0, 'y': 35, 'longitude': 34.817755000000005, 'latitude': 32.11344833333333} {'x': 1326, 'y': 30, 'longitude': 34.81849833333333, 'latitude': 32.11331833333334} {'x': 35, 'y': 1181, 'longitude': 34.817658333333334, 'latitude': 32.112855}\n"
     ]
    }
   ],
   "source": [
    "lt = leftest_topest[['x','y','longitude','latitude']].to_dict()\n",
    "rt  = rightest_topest[['x','y','longitude','latitude']].to_dict()\n",
    "lb = leftest_downest[['x','y','longitude','latitude']].to_dict()\n",
    "print(lt,rt,lb)"
   ]
  },
  {
   "cell_type": "code",
   "execution_count": 40,
   "metadata": {},
   "outputs": [
    {
     "name": "stdout",
     "output_type": "stream",
     "text": [
      "Rightmost-Bottommost Point: (longitude: 34.818381552078776, latitude: 32.11272592560912)\n"
     ]
    }
   ],
   "source": [
    "\n",
    "\n",
    "# Define the known points\n",
    "# lt = {'x': 0, 'y': 35, 'longitude': 34.817755, 'latitude': 32.113448}\n",
    "# rt = {'x': 1326, 'y': 30, 'longitude': 34.818498, 'latitude': 32.113318}\n",
    "# lb = {'x': 35, 'y': 1181, 'longitude': 34.817658, 'latitude': 32.112855}\n",
    "\n",
    "# Coordinates of the bounding points\n",
    "points = np.array([\n",
    "    [lt['x'], lt['y']],\n",
    "    [rt['x'], rt['y']],\n",
    "    [lb['x'], lb['y']]\n",
    "])\n",
    "\n",
    "# Longitudes and latitudes of the bounding points\n",
    "longitudes = np.array([lt['longitude'], rt['longitude'], lb['longitude']])\n",
    "latitudes = np.array([lt['latitude'], rt['latitude'], lb['latitude']])\n",
    "\n",
    "# Define the point to be transformed\n",
    "point_to_transform = np.array([1326, 1181])\n",
    "\n",
    "# Calculate the transformation using linear algebra\n",
    "# Add a column of ones for the affine transformation\n",
    "points_ones = np.hstack([points, np.ones((points.shape[0], 1))])\n",
    "transform_matrix_longitude = np.linalg.lstsq(points_ones, longitudes, rcond=None)[0]\n",
    "transform_matrix_latitude = np.linalg.lstsq(points_ones, latitudes, rcond=None)[0]\n",
    "\n",
    "# Add a 1 to the point to be transformed\n",
    "point_to_transform_ones = np.hstack([point_to_transform, 1])\n",
    "\n",
    "# Calculate the transformed coordinates\n",
    "transformed_longitude = np.dot(point_to_transform_ones, transform_matrix_longitude)\n",
    "transformed_latitude = np.dot(point_to_transform_ones, transform_matrix_latitude)\n",
    "\n",
    "print(\"Rightmost-Bottommost Point: (longitude: {}, latitude: {})\".format(transformed_longitude, transformed_latitude))\n"
   ]
  },
  {
   "cell_type": "code",
   "execution_count": 19,
   "metadata": {},
   "outputs": [
    {
     "name": "stdout",
     "output_type": "stream",
     "text": [
      "Rightmost-Bottommost Point: (x: 1361, y: 1176)\n"
     ]
    }
   ],
   "source": [
    "# Coordinates of the bounding points\n",
    "leftest_topest_coord = np.array([leftest_topest['x'], leftest_topest['y']])\n",
    "rightest_topest_coord = np.array([rightest_topest['x'], rightest_topest['y']])\n",
    "leftest_downest_coord = np.array([leftest_downest['x'], leftest_downest['y']])\n",
    "\n",
    "# Calculate the vector from leftest_topest to rightest_topest\n",
    "vector_top = rightest_topest_coord - leftest_topest_coord\n",
    "\n",
    "# Assuming the rectangular map, calculate the vector from leftest_topest to leftest_downest\n",
    "vector_left = leftest_downest_coord - leftest_topest_coord\n",
    "\n",
    "# Calculate the rightest-downest point\n",
    "rightest_downest_coord = leftest_downest_coord + vector_top\n",
    "\n",
    "print(\"Rightmost-Bottommost Point: (x: {}, y: {})\".format(rightest_downest_coord[0], rightest_downest_coord[1]))"
   ]
  }
 ],
 "metadata": {
  "kernelspec": {
   "display_name": "Python 3",
   "language": "python",
   "name": "python3"
  },
  "language_info": {
   "codemirror_mode": {
    "name": "ipython",
    "version": 3
   },
   "file_extension": ".py",
   "mimetype": "text/x-python",
   "name": "python",
   "nbconvert_exporter": "python",
   "pygments_lexer": "ipython3",
   "version": "3.10.12"
  }
 },
 "nbformat": 4,
 "nbformat_minor": 2
}
