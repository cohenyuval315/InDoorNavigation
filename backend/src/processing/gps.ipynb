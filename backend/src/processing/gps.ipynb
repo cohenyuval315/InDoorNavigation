{
 "cells": [
  {
   "cell_type": "code",
   "execution_count": 1,
   "metadata": {},
   "outputs": [],
   "source": [
    "import pandas as pd\n",
    "import numpy as np\n"
   ]
  },
  {
   "cell_type": "code",
   "execution_count": 2,
   "metadata": {},
   "outputs": [],
   "source": [
    "e1 = {\"accuracy\": 8, \"altitude\": 212.29999999999998, \"heading\": 0, \n",
    "\"latitude\": 32.11485166666667, \n",
    "\"longitude\": 34.81834666666667, \"speed\": 0}\n",
    "e2 = {\"accuracy\": 8, \"altitude\": 212.2, \"heading\": 0, \"latitude\": 32.114844999999995, \"longitude\": 34.81836, \"speed\": 0}\n",
    "e3 = {\"accuracy\": 8, \"altitude\": 211.29999999999998, \"heading\": 0, \"latitude\": 32.11484666666667, \"longitude\": 34.818371666666664, \"speed\": 0}\n",
    "e4 = {\"accuracy\": 8.100000381469727, \"altitude\": 210.79999999999998, \"heading\": 0, \"latitude\": \n",
    "32.11484, \"longitude\": \n",
    "34.81838666666667, \"speed\": 0}\n",
    "e5 = {\"accuracy\": 8, \"altitude\": 211.39999999999998, \"heading\": 0, \"latitude\": 32.114823333333334, \"longitude\": 34.818443333333335, \"speed\": 0}\n",
    "e6 = {\"accuracy\": 8.100000381469727, \"altitude\": 211.5, \"heading\": 0, \"latitude\": 32.11481166666667, \"longitude\": 34.818441666666665, \"speed\": 0}"
   ]
  },
  {
   "cell_type": "code",
   "execution_count": 3,
   "metadata": {},
   "outputs": [],
   "source": [
    "area = [\n",
    "    {\"latitude\": 32.11344833333333, \"longitude\": 34.817755000000005}, \n",
    "    {\"latitude\": 32.11331833333334, \"longitude\": 34.81849833333333}, \n",
    "    {\"latitude\": 32.112855, \"longitude\": 34.817658333333334}, \n",
    "    {\"latitude\": 32.11272592560912, \"longitude\": 34.818381552078776}\n",
    "]"
   ]
  },
  {
   "cell_type": "code",
   "execution_count": null,
   "metadata": {},
   "outputs": [],
   "source": []
  },
  {
   "cell_type": "code",
   "execution_count": 90,
   "metadata": {},
   "outputs": [
    {
     "name": "stdout",
     "output_type": "stream",
     "text": [
      "[{'latitude': 32.113566666666664, 'longitude': 34.817744999999995}, {'latitude': 32.11342166666667, 'longitude': 34.818509999999996}, {'latitude': 32.112835000000004, 'longitude': 34.817706666666666}, {'latitude': 32.11269000000001, 'longitude': 34.81847166666667}]\n"
     ]
    },
    {
     "data": {
      "text/plain": [
       "[(32.113566666666664, 34.817744999999995),\n",
       " (32.11342166666667, 34.818509999999996),\n",
       " (32.112835000000004, 34.817706666666666),\n",
       " (32.11269000000001, 34.81847166666667)]"
      ]
     },
     "execution_count": 90,
     "metadata": {},
     "output_type": "execute_result"
    }
   ],
   "source": [
    "topleft = {\"accuracy\": 1.399999976158142, \"altitude\": 31.4, \"heading\": 219.30999755859375, \"latitude\": 32.113566666666664, \"longitude\": 34.817744999999995, \"speed\": 0}\n",
    "topright = {\"accuracy\": 1.5, \"altitude\": 29.4, \"heading\": 73.6500015258789, \"latitude\": 32.11342166666667, \"longitude\": 34.818509999999996, \"speed\": 0}\n",
    "bottomleft = {\"accuracy\": 1.7000000476837158, \"altitude\": 27.5, \"heading\": 130.33999633789062, \"latitude\": 32.112835000000004, \"longitude\": 34.817706666666666, \"speed\": 0}\n",
    "bottomright = {\"accuracy\": 1.7000000476837158, \"altitude\": 27.5, \"heading\": 130.33999633789062, \"latitude\": 32.11269000000001, \"longitude\": 34.81847166666667, \"speed\": 0}\n",
    "area = [\n",
    "    topleft,\n",
    "    topright,\n",
    "    bottomleft,\n",
    "    bottomright\n",
    "]\n",
    "area = [{\n",
    "    \"latitude\":a['latitude'],\n",
    "    \"longitude\":a['longitude']\n",
    "    } for a in area]\n",
    "print(area)\n",
    "area = [(a['latitude'],a['longitude']) for a in area]\n",
    "\n",
    "area"
   ]
  },
  {
   "cell_type": "code",
   "execution_count": 88,
   "metadata": {},
   "outputs": [],
   "source": [
    "\n",
    "p = {\"accuracy\": 2, \"altitude\": 26.2, \"heading\": 32.77000045776367, \"latitude\": 32.11347833333333, \"longitude\": 34.81811166666667, \"speed\": 0}\n",
    "p = (p['latitude'],p['longitude'])"
   ]
  },
  {
   "cell_type": "code",
   "execution_count": 89,
   "metadata": {},
   "outputs": [
    {
     "data": {
      "text/plain": [
       "{'relative_latitude_percent': 12.072892938235551,\n",
       " 'relative_longitude_percent': 47.93028322498568,\n",
       " 'x': 47.93028322498568,\n",
       " 'y': 12.072892938235551}"
      ]
     },
     "execution_count": 89,
     "metadata": {},
     "output_type": "execute_result"
    }
   ],
   "source": [
    "def calculate_relative_position(new_point, area_coords):\n",
    "    # Assuming new_point is in (latitude, longitude) format\n",
    "    new_lat, new_lon = new_point\n",
    "    \n",
    "    # Top left coordinates\n",
    "    tl_lat, tl_lon = area_coords[0]\n",
    "    \n",
    "    # Calculate relative position\n",
    "    rel_lat = (new_lat - tl_lat) / (area_coords[2][0] - tl_lat)\n",
    "    rel_lon = (new_lon - tl_lon) / (area_coords[1][1] - tl_lon)\n",
    "    x = rel_lon * 100\n",
    "    y = rel_lat * 100\n",
    "\n",
    "    if y > 100:\n",
    "        y = 100\n",
    "\n",
    "    if y < 0:\n",
    "        y = 0\n",
    "\n",
    "    if x > 100:\n",
    "        x = 100\n",
    "    if x < 0:\n",
    "        x = 0\n",
    "        \n",
    "    \n",
    "    return {\n",
    "        \"relative_latitude_percent\": rel_lat * 100,\n",
    "        \"relative_longitude_percent\": rel_lon * 100,\n",
    "        \"x\":x,\n",
    "        \"y\":y\n",
    "    }\n",
    "\n",
    "calculate_relative_position(p,area)"
   ]
  },
  {
   "cell_type": "code",
   "execution_count": null,
   "metadata": {},
   "outputs": [],
   "source": []
  },
  {
   "cell_type": "code",
   "execution_count": 59,
   "metadata": {},
   "outputs": [
    {
     "name": "stdout",
     "output_type": "stream",
     "text": [
      "Relative Position (Inside): {'relative_latitude_percent': 100, 'relative_longitude_percent': 33.33333333364294}\n",
      "Relative Position (Outside in Latitude): {'relative_latitude_percent': 100, 'relative_longitude_percent': 33.33333333364294}\n",
      "Relative Position (Outside in Longitude): {'relative_latitude_percent': 100, 'relative_longitude_percent': 100}\n"
     ]
    }
   ],
   "source": []
  },
  {
   "cell_type": "code",
   "execution_count": 71,
   "metadata": {},
   "outputs": [
    {
     "data": {
      "text/plain": [
       "{'relative_latitude_percent': 12.072892938235551,\n",
       " 'relative_longitude_percent': 47.93028322498568,\n",
       " 'x': 47.93028322498568,\n",
       " 'y': 12.072892938235551}"
      ]
     },
     "execution_count": 71,
     "metadata": {},
     "output_type": "execute_result"
    }
   ],
   "source": []
  },
  {
   "cell_type": "code",
   "execution_count": 51,
   "metadata": {},
   "outputs": [
    {
     "data": {
      "text/plain": [
       "{'accuracy': 8,\n",
       " 'altitude': 212.29999999999998,\n",
       " 'heading': 0,\n",
       " 'latitude': 32.11485166666667,\n",
       " 'longitude': 34.81834666666667,\n",
       " 'speed': 0}"
      ]
     },
     "execution_count": 51,
     "metadata": {},
     "output_type": "execute_result"
    }
   ],
   "source": [
    "e1"
   ]
  },
  {
   "cell_type": "code",
   "execution_count": 14,
   "metadata": {},
   "outputs": [],
   "source": [
    "vec_top = np.array([topright[\"latitude\"] - topleft[\"latitude\"], topright[\"longitude\"] - topleft[\"longitude\"]])\n",
    "vec_left = np.array([bottomleft[\"latitude\"] - topleft[\"latitude\"], bottomleft[\"longitude\"] - topleft[\"longitude\"]])\n"
   ]
  },
  {
   "cell_type": "code",
   "execution_count": 15,
   "metadata": {},
   "outputs": [],
   "source": [
    "bottomright = {\n",
    "    \"latitude\": topleft[\"latitude\"] + vec_top[0] + vec_left[0],\n",
    "    \"longitude\": topleft[\"longitude\"] + vec_top[1] + vec_left[1]\n",
    "}"
   ]
  },
  {
   "cell_type": "code",
   "execution_count": 16,
   "metadata": {},
   "outputs": [
    {
     "data": {
      "text/plain": [
       "(32.11269000000001, 34.81847166666667)"
      ]
     },
     "execution_count": 16,
     "metadata": {},
     "output_type": "execute_result"
    }
   ],
   "source": [
    "bottomright['latitude'],bottomright['longitude']"
   ]
  },
  {
   "cell_type": "code",
   "execution_count": null,
   "metadata": {},
   "outputs": [],
   "source": [
    "area = [\n",
    "    topleft,\n",
    "    topright,\n",
    "    bottomleft,\n",
    "    bottomright\n",
    "]"
   ]
  },
  {
   "cell_type": "code",
   "execution_count": 13,
   "metadata": {},
   "outputs": [
    {
     "data": {
      "text/plain": [
       "[(32.113566666666664, 34.817744999999995),\n",
       " (32.11342166666667, 34.818509999999996),\n",
       " (32.112835000000004, 34.817706666666666)]"
      ]
     },
     "execution_count": 13,
     "metadata": {},
     "output_type": "execute_result"
    }
   ],
   "source": []
  },
  {
   "cell_type": "code",
   "execution_count": null,
   "metadata": {},
   "outputs": [],
   "source": [
    "area2 = [\n",
    "    {\"latitude\": 32.1135, \"longitude\": 34.817755000000005}, \n",
    "    {\"latitude\": 32.11331833333334, \"longitude\": 34.81849833333333}, \n",
    "    {\"latitude\": 32.112855, \"longitude\": 34.817658333333334}, \n",
    "    {\"latitude\": 32.11272592560912, \"longitude\": 34.818381552078776}\n",
    "]"
   ]
  },
  {
   "cell_type": "code",
   "execution_count": 18,
   "metadata": {},
   "outputs": [],
   "source": [
    "new_point = {\n",
    "\"latitude\": 32.11485166666667, \n",
    "\"longitude\": 34.81834666666667,\n",
    "}\n"
   ]
  },
  {
   "cell_type": "code",
   "execution_count": 17,
   "metadata": {},
   "outputs": [],
   "source": [
    "def calculate_relative_position(topleft, bottomright, new_point):\n",
    "    width = bottomright[\"longitude\"] - topleft[\"longitude\"]\n",
    "    height = topleft[\"latitude\"] - bottomright[\"latitude\"]\n",
    "\n",
    "    rel_lat = (new_point[\"latitude\"] - topleft[\"latitude\"]) / height\n",
    "    rel_lon = (new_point[\"longitude\"] - topleft[\"longitude\"]) / width\n",
    "\n",
    "    return {\n",
    "        \"relative_latitude_percent\": rel_lat * 100,\n",
    "        \"relative_longitude_percent\": rel_lon * 100\n",
    "    }"
   ]
  },
  {
   "cell_type": "code",
   "execution_count": 19,
   "metadata": {},
   "outputs": [
    {
     "data": {
      "text/plain": [
       "{'relative_latitude_percent': 146.57794677017492,\n",
       " 'relative_longitude_percent': 82.79816513815517}"
      ]
     },
     "execution_count": 19,
     "metadata": {},
     "output_type": "execute_result"
    }
   ],
   "source": [
    "calculate_relative_position(topleft,bottomright,new_point)"
   ]
  },
  {
   "cell_type": "code",
   "execution_count": 20,
   "metadata": {},
   "outputs": [
    {
     "name": "stdout",
     "output_type": "stream",
     "text": [
      "Latitude %: 270.1595, Longitude %: 91.4938\n"
     ]
    }
   ],
   "source": [
    "def find_percentage_coordinates(point, area):\n",
    "    # Extract latitude and longitude from the point\n",
    "    lat = point[\"latitude\"]\n",
    "    lon = point[\"longitude\"]\n",
    "    \n",
    "    # Extract all latitude and longitude values from the area\n",
    "    lats = [p[\"latitude\"] for p in area]\n",
    "    lons = [p[\"longitude\"] for p in area]\n",
    "    \n",
    "    # Calculate min and max values for latitude and longitude\n",
    "    min_lat = min(lats)\n",
    "    max_lat = max(lats)\n",
    "    min_lon = min(lons)\n",
    "    max_lon = max(lons)\n",
    "    \n",
    "    # Calculate normalized coordinates within the bounds\n",
    "    lat_percent = (lat - min_lat) / (max_lat - min_lat) * 100\n",
    "    lon_percent = (lon - min_lon) / (max_lon - min_lon) * 100\n",
    "    # Return the percentage coordinates as a tuple\n",
    "    return lat_percent, lon_percent\n",
    "    \n",
    "\n",
    "# Calculate percentage coordinates for point e6 within the area\n",
    "lat_percent, lon_percent = find_percentage_coordinates(e6, area)\n",
    "\n",
    "print(f\"Latitude %: {lat_percent:.4f}, Longitude %: {lon_percent:.4f}\")\n"
   ]
  },
  {
   "cell_type": "code",
   "execution_count": 42,
   "metadata": {},
   "outputs": [
    {
     "data": {
      "text/plain": [
       "(32.11481166666667, 34.818441666666665)"
      ]
     },
     "execution_count": 42,
     "metadata": {},
     "output_type": "execute_result"
    }
   ],
   "source": [
    "p = (e6['latitude'], e6['longitude'])\n",
    "p"
   ]
  },
  {
   "cell_type": "code",
   "execution_count": 29,
   "metadata": {},
   "outputs": [],
   "source": [
    "# lat = y  - 0\n",
    "# long = x - 1"
   ]
  },
  {
   "cell_type": "code",
   "execution_count": 46,
   "metadata": {},
   "outputs": [],
   "source": [
    "i = 1\n",
    "j = 0"
   ]
  },
  {
   "cell_type": "code",
   "execution_count": null,
   "metadata": {},
   "outputs": [],
   "source": [
    "topleft[0] - topright[0]"
   ]
  },
  {
   "cell_type": "code",
   "execution_count": 47,
   "metadata": {},
   "outputs": [
    {
     "data": {
      "text/plain": [
       "(0.9106753812663686, -1.7015945330518227)"
      ]
     },
     "execution_count": 47,
     "metadata": {},
     "output_type": "execute_result"
    }
   ],
   "source": [
    "(topleft[i] - p[i]) / (topleft[i] - topright[i]), (topleft[j] - p[j]) / (topleft[j] - bottomleft[j])\n"
   ]
  },
  {
   "cell_type": "code",
   "execution_count": 24,
   "metadata": {},
   "outputs": [
    {
     "data": {
      "text/plain": [
       "((32.113566666666664, 34.817744999999995),\n",
       " (32.11342166666667, 34.818509999999996))"
      ]
     },
     "execution_count": 24,
     "metadata": {},
     "output_type": "execute_result"
    }
   ],
   "source": []
  },
  {
   "cell_type": "code",
   "execution_count": 91,
   "metadata": {},
   "outputs": [],
   "source": [
    "csv_file = 'gps_data.csv'\n",
    "data = pd.read_csv(csv_file)"
   ]
  },
  {
   "cell_type": "code",
   "execution_count": 93,
   "metadata": {},
   "outputs": [
    {
     "data": {
      "text/plain": [
       "359.82000732421875"
      ]
     },
     "execution_count": 93,
     "metadata": {},
     "output_type": "execute_result"
    }
   ],
   "source": [
    "data['heading'].max()"
   ]
  },
  {
   "cell_type": "code",
   "execution_count": 22,
   "metadata": {},
   "outputs": [
    {
     "name": "stdout",
     "output_type": "stream",
     "text": [
      "Defaulting to user installation because normal site-packages is not writeable\n",
      "Collecting opencv-python\n",
      "  Downloading opencv_python-4.10.0.84-cp37-abi3-manylinux_2_17_x86_64.manylinux2014_x86_64.whl (62.5 MB)\n",
      "\u001b[2K     \u001b[38;2;114;156;31m━━━━━━━━━━━━━━━━━━━━━━━━━━━━━━━━━━━━━━━━\u001b[0m \u001b[32m62.5/62.5 MB\u001b[0m \u001b[31m3.4 MB/s\u001b[0m eta \u001b[36m0:00:00\u001b[0mm eta \u001b[36m0:00:01\u001b[0m[36m0:00:01\u001b[0m\n",
      "\u001b[?25hRequirement already satisfied: numpy>=1.17.3 in /home/yuval/.local/lib/python3.10/site-packages (from opencv-python) (1.23.5)\n",
      "Installing collected packages: opencv-python\n",
      "Successfully installed opencv-python-4.10.0.84\n"
     ]
    }
   ],
   "source": [
    "!pip install opencv-python"
   ]
  },
  {
   "cell_type": "code",
   "execution_count": 23,
   "metadata": {},
   "outputs": [
    {
     "name": "stdout",
     "output_type": "stream",
     "text": [
      "Bottom Right Point: (32.11269000000001, 34.81847166666667)\n",
      "Relative Position: {'relative_latitude_percent': 70.27849555015564, 'relative_longitude_percent': 37.01392412185669}\n"
     ]
    }
   ],
   "source": [
    "import numpy as np\n",
    "import cv2\n",
    "\n",
    "# Given points\n",
    "topleft = (32.113566666666664, 34.817744999999995)\n",
    "topright = (32.11342166666667, 34.818509999999996)\n",
    "bottomleft = (32.112835000000004, 34.817706666666666)\n",
    "\n",
    "# Calculate the fourth point (bottom right) using vector addition\n",
    "vec_top = np.array([topright[0] - topleft[0], topright[1] - topleft[1]])\n",
    "vec_left = np.array([bottomleft[0] - topleft[0], bottomleft[1] - topleft[1]])\n",
    "bottomright = (topleft[0] + vec_left[0] + vec_top[0], topleft[1] + vec_left[1] + vec_top[1])\n",
    "\n",
    "# Original points (source points)\n",
    "src_points = np.array([topleft, topright, bottomleft, bottomright], dtype=np.float32)\n",
    "\n",
    "# Destination points (points of a perfect rectangle)\n",
    "dst_points = np.array([\n",
    "    [0, 0],\n",
    "    [1, 0],\n",
    "    [0, 1],\n",
    "    [1, 1]\n",
    "], dtype=np.float32)\n",
    "\n",
    "# Compute the homography matrix\n",
    "h_matrix, _ = cv2.findHomography(src_points, dst_points)\n",
    "\n",
    "# Function to calculate the relative position of a new point\n",
    "def calculate_relative_position(new_point, h_matrix):\n",
    "    point = np.array([[new_point[0], new_point[1]]], dtype=np.float32)\n",
    "    point = np.array([point])\n",
    "    transformed_point = cv2.perspectiveTransform(point, h_matrix)\n",
    "    rel_lat = transformed_point[0][0][1]\n",
    "    rel_lon = transformed_point[0][0][0]\n",
    "    return {\n",
    "        \"relative_latitude_percent\": rel_lat * 100,\n",
    "        \"relative_longitude_percent\": rel_lon * 100\n",
    "    }\n",
    "\n",
    "# New point (example)\n",
    "new_point = (32.113, 34.818)\n",
    "\n",
    "# Calculate the relative position\n",
    "relative_position = calculate_relative_position(new_point, h_matrix)\n",
    "\n",
    "print(\"Bottom Right Point:\", bottomright)\n",
    "print(\"Relative Position:\", relative_position)\n"
   ]
  },
  {
   "cell_type": "code",
   "execution_count": 7,
   "metadata": {},
   "outputs": [
    {
     "data": {
      "text/plain": [
       "Index(['version', 'buildingId', 'x', 'y', 'floor', 'timestamp', 'accuracy',\n",
       "       'longitude', 'latitude', 'altitude', 'heading', 'speed', 'meanCn0',\n",
       "       'maxCn0', 'satellites', 'uploaddAt'],\n",
       "      dtype='object')"
      ]
     },
     "execution_count": 7,
     "metadata": {},
     "output_type": "execute_result"
    }
   ],
   "source": [
    "data.columns"
   ]
  },
  {
   "cell_type": "code",
   "execution_count": 19,
   "metadata": {},
   "outputs": [
    {
     "data": {
      "text/plain": [
       "floor\n",
       "-1    43.997962\n",
       " 0    38.811019\n",
       "dtype: float64"
      ]
     },
     "execution_count": 19,
     "metadata": {},
     "output_type": "execute_result"
    }
   ],
   "source": [
    "data.groupby('floor').apply(lambda x: (x['altitude'] * x['accuracy']).sum() / x['accuracy'].sum())\n"
   ]
  },
  {
   "cell_type": "code",
   "execution_count": 18,
   "metadata": {},
   "outputs": [
    {
     "data": {
      "text/html": [
       "<div>\n",
       "<style scoped>\n",
       "    .dataframe tbody tr th:only-of-type {\n",
       "        vertical-align: middle;\n",
       "    }\n",
       "\n",
       "    .dataframe tbody tr th {\n",
       "        vertical-align: top;\n",
       "    }\n",
       "\n",
       "    .dataframe thead th {\n",
       "        text-align: right;\n",
       "    }\n",
       "</style>\n",
       "<table border=\"1\" class=\"dataframe\">\n",
       "  <thead>\n",
       "    <tr style=\"text-align: right;\">\n",
       "      <th></th>\n",
       "      <th>x</th>\n",
       "      <th>y</th>\n",
       "      <th>floor</th>\n",
       "      <th>altitude</th>\n",
       "      <th>accuracy</th>\n",
       "    </tr>\n",
       "  </thead>\n",
       "  <tbody>\n",
       "    <tr>\n",
       "      <th>0</th>\n",
       "      <td>1326</td>\n",
       "      <td>30</td>\n",
       "      <td>0</td>\n",
       "      <td>37.4</td>\n",
       "      <td>1.5</td>\n",
       "    </tr>\n",
       "    <tr>\n",
       "      <th>1</th>\n",
       "      <td>1326</td>\n",
       "      <td>30</td>\n",
       "      <td>0</td>\n",
       "      <td>37.4</td>\n",
       "      <td>1.5</td>\n",
       "    </tr>\n",
       "    <tr>\n",
       "      <th>2</th>\n",
       "      <td>1226</td>\n",
       "      <td>30</td>\n",
       "      <td>0</td>\n",
       "      <td>36.7</td>\n",
       "      <td>1.5</td>\n",
       "    </tr>\n",
       "    <tr>\n",
       "      <th>3</th>\n",
       "      <td>1106</td>\n",
       "      <td>30</td>\n",
       "      <td>0</td>\n",
       "      <td>41.2</td>\n",
       "      <td>1.6</td>\n",
       "    </tr>\n",
       "    <tr>\n",
       "      <th>4</th>\n",
       "      <td>1011</td>\n",
       "      <td>35</td>\n",
       "      <td>0</td>\n",
       "      <td>43.1</td>\n",
       "      <td>1.6</td>\n",
       "    </tr>\n",
       "    <tr>\n",
       "      <th>...</th>\n",
       "      <td>...</td>\n",
       "      <td>...</td>\n",
       "      <td>...</td>\n",
       "      <td>...</td>\n",
       "      <td>...</td>\n",
       "    </tr>\n",
       "    <tr>\n",
       "      <th>171</th>\n",
       "      <td>135</td>\n",
       "      <td>521</td>\n",
       "      <td>-1</td>\n",
       "      <td>44.8</td>\n",
       "      <td>2.3</td>\n",
       "    </tr>\n",
       "    <tr>\n",
       "      <th>172</th>\n",
       "      <td>35</td>\n",
       "      <td>381</td>\n",
       "      <td>-1</td>\n",
       "      <td>47.9</td>\n",
       "      <td>2.0</td>\n",
       "    </tr>\n",
       "    <tr>\n",
       "      <th>173</th>\n",
       "      <td>35</td>\n",
       "      <td>316</td>\n",
       "      <td>-1</td>\n",
       "      <td>50.1</td>\n",
       "      <td>1.8</td>\n",
       "    </tr>\n",
       "    <tr>\n",
       "      <th>174</th>\n",
       "      <td>175</td>\n",
       "      <td>316</td>\n",
       "      <td>-1</td>\n",
       "      <td>51.4</td>\n",
       "      <td>3.5</td>\n",
       "    </tr>\n",
       "    <tr>\n",
       "      <th>175</th>\n",
       "      <td>315</td>\n",
       "      <td>316</td>\n",
       "      <td>-1</td>\n",
       "      <td>NaN</td>\n",
       "      <td>NaN</td>\n",
       "    </tr>\n",
       "  </tbody>\n",
       "</table>\n",
       "<p>176 rows × 5 columns</p>\n",
       "</div>"
      ],
      "text/plain": [
       "        x    y  floor  altitude  accuracy\n",
       "0    1326   30      0      37.4       1.5\n",
       "1    1326   30      0      37.4       1.5\n",
       "2    1226   30      0      36.7       1.5\n",
       "3    1106   30      0      41.2       1.6\n",
       "4    1011   35      0      43.1       1.6\n",
       "..    ...  ...    ...       ...       ...\n",
       "171   135  521     -1      44.8       2.3\n",
       "172    35  381     -1      47.9       2.0\n",
       "173    35  316     -1      50.1       1.8\n",
       "174   175  316     -1      51.4       3.5\n",
       "175   315  316     -1       NaN       NaN\n",
       "\n",
       "[176 rows x 5 columns]"
      ]
     },
     "execution_count": 18,
     "metadata": {},
     "output_type": "execute_result"
    }
   ],
   "source": [
    "data[['x','y','floor','altitude','accuracy']]"
   ]
  },
  {
   "cell_type": "code",
   "execution_count": 13,
   "metadata": {},
   "outputs": [
    {
     "ename": "KeyError",
     "evalue": "('floor', 'altitude')",
     "output_type": "error",
     "traceback": [
      "\u001b[1;31m---------------------------------------------------------------------------\u001b[0m",
      "\u001b[1;31mKeyError\u001b[0m                                  Traceback (most recent call last)",
      "File \u001b[1;32mc:\\Python311\\Lib\\site-packages\\pandas\\core\\indexes\\base.py:3652\u001b[0m, in \u001b[0;36mIndex.get_loc\u001b[1;34m(self, key)\u001b[0m\n\u001b[0;32m   3651\u001b[0m \u001b[38;5;28;01mtry\u001b[39;00m:\n\u001b[1;32m-> 3652\u001b[0m     \u001b[38;5;28;01mreturn\u001b[39;00m \u001b[38;5;28;43mself\u001b[39;49m\u001b[38;5;241;43m.\u001b[39;49m\u001b[43m_engine\u001b[49m\u001b[38;5;241;43m.\u001b[39;49m\u001b[43mget_loc\u001b[49m\u001b[43m(\u001b[49m\u001b[43mcasted_key\u001b[49m\u001b[43m)\u001b[49m\n\u001b[0;32m   3653\u001b[0m \u001b[38;5;28;01mexcept\u001b[39;00m \u001b[38;5;167;01mKeyError\u001b[39;00m \u001b[38;5;28;01mas\u001b[39;00m err:\n",
      "File \u001b[1;32mc:\\Python311\\Lib\\site-packages\\pandas\\_libs\\index.pyx:147\u001b[0m, in \u001b[0;36mpandas._libs.index.IndexEngine.get_loc\u001b[1;34m()\u001b[0m\n",
      "File \u001b[1;32mc:\\Python311\\Lib\\site-packages\\pandas\\_libs\\index.pyx:176\u001b[0m, in \u001b[0;36mpandas._libs.index.IndexEngine.get_loc\u001b[1;34m()\u001b[0m\n",
      "File \u001b[1;32mpandas\\_libs\\hashtable_class_helper.pxi:7080\u001b[0m, in \u001b[0;36mpandas._libs.hashtable.PyObjectHashTable.get_item\u001b[1;34m()\u001b[0m\n",
      "File \u001b[1;32mpandas\\_libs\\hashtable_class_helper.pxi:7088\u001b[0m, in \u001b[0;36mpandas._libs.hashtable.PyObjectHashTable.get_item\u001b[1;34m()\u001b[0m\n",
      "\u001b[1;31mKeyError\u001b[0m: ('floor', 'altitude')",
      "\nThe above exception was the direct cause of the following exception:\n",
      "\u001b[1;31mKeyError\u001b[0m                                  Traceback (most recent call last)",
      "Cell \u001b[1;32mIn[13], line 1\u001b[0m\n\u001b[1;32m----> 1\u001b[0m data\u001b[38;5;241m.\u001b[39mloc[\u001b[43mdata\u001b[49m\u001b[43m[\u001b[49m\u001b[38;5;124;43m'\u001b[39;49m\u001b[38;5;124;43mfloor\u001b[39;49m\u001b[38;5;124;43m'\u001b[39;49m\u001b[43m,\u001b[49m\u001b[38;5;124;43m'\u001b[39;49m\u001b[38;5;124;43maltitude\u001b[39;49m\u001b[38;5;124;43m'\u001b[39;49m\u001b[43m]\u001b[49m]\n",
      "File \u001b[1;32mc:\\Python311\\Lib\\site-packages\\pandas\\core\\frame.py:3761\u001b[0m, in \u001b[0;36mDataFrame.__getitem__\u001b[1;34m(self, key)\u001b[0m\n\u001b[0;32m   3759\u001b[0m \u001b[38;5;28;01mif\u001b[39;00m \u001b[38;5;28mself\u001b[39m\u001b[38;5;241m.\u001b[39mcolumns\u001b[38;5;241m.\u001b[39mnlevels \u001b[38;5;241m>\u001b[39m \u001b[38;5;241m1\u001b[39m:\n\u001b[0;32m   3760\u001b[0m     \u001b[38;5;28;01mreturn\u001b[39;00m \u001b[38;5;28mself\u001b[39m\u001b[38;5;241m.\u001b[39m_getitem_multilevel(key)\n\u001b[1;32m-> 3761\u001b[0m indexer \u001b[38;5;241m=\u001b[39m \u001b[38;5;28;43mself\u001b[39;49m\u001b[38;5;241;43m.\u001b[39;49m\u001b[43mcolumns\u001b[49m\u001b[38;5;241;43m.\u001b[39;49m\u001b[43mget_loc\u001b[49m\u001b[43m(\u001b[49m\u001b[43mkey\u001b[49m\u001b[43m)\u001b[49m\n\u001b[0;32m   3762\u001b[0m \u001b[38;5;28;01mif\u001b[39;00m is_integer(indexer):\n\u001b[0;32m   3763\u001b[0m     indexer \u001b[38;5;241m=\u001b[39m [indexer]\n",
      "File \u001b[1;32mc:\\Python311\\Lib\\site-packages\\pandas\\core\\indexes\\base.py:3654\u001b[0m, in \u001b[0;36mIndex.get_loc\u001b[1;34m(self, key)\u001b[0m\n\u001b[0;32m   3652\u001b[0m     \u001b[38;5;28;01mreturn\u001b[39;00m \u001b[38;5;28mself\u001b[39m\u001b[38;5;241m.\u001b[39m_engine\u001b[38;5;241m.\u001b[39mget_loc(casted_key)\n\u001b[0;32m   3653\u001b[0m \u001b[38;5;28;01mexcept\u001b[39;00m \u001b[38;5;167;01mKeyError\u001b[39;00m \u001b[38;5;28;01mas\u001b[39;00m err:\n\u001b[1;32m-> 3654\u001b[0m     \u001b[38;5;28;01mraise\u001b[39;00m \u001b[38;5;167;01mKeyError\u001b[39;00m(key) \u001b[38;5;28;01mfrom\u001b[39;00m \u001b[38;5;21;01merr\u001b[39;00m\n\u001b[0;32m   3655\u001b[0m \u001b[38;5;28;01mexcept\u001b[39;00m \u001b[38;5;167;01mTypeError\u001b[39;00m:\n\u001b[0;32m   3656\u001b[0m     \u001b[38;5;66;03m# If we have a listlike key, _check_indexing_error will raise\u001b[39;00m\n\u001b[0;32m   3657\u001b[0m     \u001b[38;5;66;03m#  InvalidIndexError. Otherwise we fall through and re-raise\u001b[39;00m\n\u001b[0;32m   3658\u001b[0m     \u001b[38;5;66;03m#  the TypeError.\u001b[39;00m\n\u001b[0;32m   3659\u001b[0m     \u001b[38;5;28mself\u001b[39m\u001b[38;5;241m.\u001b[39m_check_indexing_error(key)\n",
      "\u001b[1;31mKeyError\u001b[0m: ('floor', 'altitude')"
     ]
    }
   ],
   "source": [
    "data.loc[data['floor','altitude']]"
   ]
  },
  {
   "cell_type": "code",
   "execution_count": 6,
   "metadata": {},
   "outputs": [
    {
     "ename": "KeyError",
     "evalue": "'altitude_accuracy'",
     "output_type": "error",
     "traceback": [
      "\u001b[1;31m---------------------------------------------------------------------------\u001b[0m",
      "\u001b[1;31mKeyError\u001b[0m                                  Traceback (most recent call last)",
      "File \u001b[1;32mc:\\Python311\\Lib\\site-packages\\pandas\\core\\indexes\\base.py:3652\u001b[0m, in \u001b[0;36mIndex.get_loc\u001b[1;34m(self, key)\u001b[0m\n\u001b[0;32m   3651\u001b[0m \u001b[38;5;28;01mtry\u001b[39;00m:\n\u001b[1;32m-> 3652\u001b[0m     \u001b[38;5;28;01mreturn\u001b[39;00m \u001b[38;5;28;43mself\u001b[39;49m\u001b[38;5;241;43m.\u001b[39;49m\u001b[43m_engine\u001b[49m\u001b[38;5;241;43m.\u001b[39;49m\u001b[43mget_loc\u001b[49m\u001b[43m(\u001b[49m\u001b[43mcasted_key\u001b[49m\u001b[43m)\u001b[49m\n\u001b[0;32m   3653\u001b[0m \u001b[38;5;28;01mexcept\u001b[39;00m \u001b[38;5;167;01mKeyError\u001b[39;00m \u001b[38;5;28;01mas\u001b[39;00m err:\n",
      "File \u001b[1;32mc:\\Python311\\Lib\\site-packages\\pandas\\_libs\\index.pyx:147\u001b[0m, in \u001b[0;36mpandas._libs.index.IndexEngine.get_loc\u001b[1;34m()\u001b[0m\n",
      "File \u001b[1;32mc:\\Python311\\Lib\\site-packages\\pandas\\_libs\\index.pyx:176\u001b[0m, in \u001b[0;36mpandas._libs.index.IndexEngine.get_loc\u001b[1;34m()\u001b[0m\n",
      "File \u001b[1;32mpandas\\_libs\\hashtable_class_helper.pxi:7080\u001b[0m, in \u001b[0;36mpandas._libs.hashtable.PyObjectHashTable.get_item\u001b[1;34m()\u001b[0m\n",
      "File \u001b[1;32mpandas\\_libs\\hashtable_class_helper.pxi:7088\u001b[0m, in \u001b[0;36mpandas._libs.hashtable.PyObjectHashTable.get_item\u001b[1;34m()\u001b[0m\n",
      "\u001b[1;31mKeyError\u001b[0m: 'altitude_accuracy'",
      "\nThe above exception was the direct cause of the following exception:\n",
      "\u001b[1;31mKeyError\u001b[0m                                  Traceback (most recent call last)",
      "Cell \u001b[1;32mIn[6], line 1\u001b[0m\n\u001b[1;32m----> 1\u001b[0m weighted_avg \u001b[38;5;241m=\u001b[39m \u001b[43mdata\u001b[49m\u001b[38;5;241;43m.\u001b[39;49m\u001b[43mgroupby\u001b[49m\u001b[43m(\u001b[49m\u001b[38;5;124;43m'\u001b[39;49m\u001b[38;5;124;43mfloor\u001b[39;49m\u001b[38;5;124;43m'\u001b[39;49m\u001b[43m)\u001b[49m\u001b[38;5;241;43m.\u001b[39;49m\u001b[43mapply\u001b[49m\u001b[43m(\u001b[49m\u001b[38;5;28;43;01mlambda\u001b[39;49;00m\u001b[43m \u001b[49m\u001b[43mx\u001b[49m\u001b[43m:\u001b[49m\u001b[43m \u001b[49m\u001b[43m(\u001b[49m\u001b[43mx\u001b[49m\u001b[43m[\u001b[49m\u001b[38;5;124;43m'\u001b[39;49m\u001b[38;5;124;43maltitude\u001b[39;49m\u001b[38;5;124;43m'\u001b[39;49m\u001b[43m]\u001b[49m\u001b[43m \u001b[49m\u001b[38;5;241;43m*\u001b[39;49m\u001b[43m \u001b[49m\u001b[43mx\u001b[49m\u001b[43m[\u001b[49m\u001b[38;5;124;43m'\u001b[39;49m\u001b[38;5;124;43maltitude_accuracy\u001b[39;49m\u001b[38;5;124;43m'\u001b[39;49m\u001b[43m]\u001b[49m\u001b[43m)\u001b[49m\u001b[38;5;241;43m.\u001b[39;49m\u001b[43msum\u001b[49m\u001b[43m(\u001b[49m\u001b[43m)\u001b[49m\u001b[43m \u001b[49m\u001b[38;5;241;43m/\u001b[39;49m\u001b[43m \u001b[49m\u001b[43mx\u001b[49m\u001b[43m[\u001b[49m\u001b[38;5;124;43m'\u001b[39;49m\u001b[38;5;124;43maltitude_accuracy\u001b[39;49m\u001b[38;5;124;43m'\u001b[39;49m\u001b[43m]\u001b[49m\u001b[38;5;241;43m.\u001b[39;49m\u001b[43msum\u001b[49m\u001b[43m(\u001b[49m\u001b[43m)\u001b[49m\u001b[43m)\u001b[49m\n\u001b[0;32m      2\u001b[0m \u001b[38;5;28mprint\u001b[39m(weighted_avg)\n",
      "File \u001b[1;32mc:\\Python311\\Lib\\site-packages\\pandas\\core\\groupby\\groupby.py:1353\u001b[0m, in \u001b[0;36mGroupBy.apply\u001b[1;34m(self, func, *args, **kwargs)\u001b[0m\n\u001b[0;32m   1351\u001b[0m \u001b[38;5;28;01mwith\u001b[39;00m option_context(\u001b[38;5;124m\"\u001b[39m\u001b[38;5;124mmode.chained_assignment\u001b[39m\u001b[38;5;124m\"\u001b[39m, \u001b[38;5;28;01mNone\u001b[39;00m):\n\u001b[0;32m   1352\u001b[0m     \u001b[38;5;28;01mtry\u001b[39;00m:\n\u001b[1;32m-> 1353\u001b[0m         result \u001b[38;5;241m=\u001b[39m \u001b[38;5;28;43mself\u001b[39;49m\u001b[38;5;241;43m.\u001b[39;49m\u001b[43m_python_apply_general\u001b[49m\u001b[43m(\u001b[49m\u001b[43mf\u001b[49m\u001b[43m,\u001b[49m\u001b[43m \u001b[49m\u001b[38;5;28;43mself\u001b[39;49m\u001b[38;5;241;43m.\u001b[39;49m\u001b[43m_selected_obj\u001b[49m\u001b[43m)\u001b[49m\n\u001b[0;32m   1354\u001b[0m     \u001b[38;5;28;01mexcept\u001b[39;00m \u001b[38;5;167;01mTypeError\u001b[39;00m:\n\u001b[0;32m   1355\u001b[0m         \u001b[38;5;66;03m# gh-20949\u001b[39;00m\n\u001b[0;32m   1356\u001b[0m         \u001b[38;5;66;03m# try again, with .apply acting as a filtering\u001b[39;00m\n\u001b[1;32m   (...)\u001b[0m\n\u001b[0;32m   1360\u001b[0m         \u001b[38;5;66;03m# fails on *some* columns, e.g. a numeric operation\u001b[39;00m\n\u001b[0;32m   1361\u001b[0m         \u001b[38;5;66;03m# on a string grouper column\u001b[39;00m\n\u001b[0;32m   1363\u001b[0m         \u001b[38;5;28;01mreturn\u001b[39;00m \u001b[38;5;28mself\u001b[39m\u001b[38;5;241m.\u001b[39m_python_apply_general(f, \u001b[38;5;28mself\u001b[39m\u001b[38;5;241m.\u001b[39m_obj_with_exclusions)\n",
      "File \u001b[1;32mc:\\Python311\\Lib\\site-packages\\pandas\\core\\groupby\\groupby.py:1402\u001b[0m, in \u001b[0;36mGroupBy._python_apply_general\u001b[1;34m(self, f, data, not_indexed_same, is_transform, is_agg)\u001b[0m\n\u001b[0;32m   1367\u001b[0m \u001b[38;5;129m@final\u001b[39m\n\u001b[0;32m   1368\u001b[0m \u001b[38;5;28;01mdef\u001b[39;00m \u001b[38;5;21m_python_apply_general\u001b[39m(\n\u001b[0;32m   1369\u001b[0m     \u001b[38;5;28mself\u001b[39m,\n\u001b[1;32m   (...)\u001b[0m\n\u001b[0;32m   1374\u001b[0m     is_agg: \u001b[38;5;28mbool\u001b[39m \u001b[38;5;241m=\u001b[39m \u001b[38;5;28;01mFalse\u001b[39;00m,\n\u001b[0;32m   1375\u001b[0m ) \u001b[38;5;241m-\u001b[39m\u001b[38;5;241m>\u001b[39m NDFrameT:\n\u001b[0;32m   1376\u001b[0m \u001b[38;5;250m    \u001b[39m\u001b[38;5;124;03m\"\"\"\u001b[39;00m\n\u001b[0;32m   1377\u001b[0m \u001b[38;5;124;03m    Apply function f in python space\u001b[39;00m\n\u001b[0;32m   1378\u001b[0m \n\u001b[1;32m   (...)\u001b[0m\n\u001b[0;32m   1400\u001b[0m \u001b[38;5;124;03m        data after applying f\u001b[39;00m\n\u001b[0;32m   1401\u001b[0m \u001b[38;5;124;03m    \"\"\"\u001b[39;00m\n\u001b[1;32m-> 1402\u001b[0m     values, mutated \u001b[38;5;241m=\u001b[39m \u001b[38;5;28;43mself\u001b[39;49m\u001b[38;5;241;43m.\u001b[39;49m\u001b[43mgrouper\u001b[49m\u001b[38;5;241;43m.\u001b[39;49m\u001b[43mapply\u001b[49m\u001b[43m(\u001b[49m\u001b[43mf\u001b[49m\u001b[43m,\u001b[49m\u001b[43m \u001b[49m\u001b[43mdata\u001b[49m\u001b[43m,\u001b[49m\u001b[43m \u001b[49m\u001b[38;5;28;43mself\u001b[39;49m\u001b[38;5;241;43m.\u001b[39;49m\u001b[43maxis\u001b[49m\u001b[43m)\u001b[49m\n\u001b[0;32m   1403\u001b[0m     \u001b[38;5;28;01mif\u001b[39;00m not_indexed_same \u001b[38;5;129;01mis\u001b[39;00m \u001b[38;5;28;01mNone\u001b[39;00m:\n\u001b[0;32m   1404\u001b[0m         not_indexed_same \u001b[38;5;241m=\u001b[39m mutated\n",
      "File \u001b[1;32mc:\\Python311\\Lib\\site-packages\\pandas\\core\\groupby\\ops.py:767\u001b[0m, in \u001b[0;36mBaseGrouper.apply\u001b[1;34m(self, f, data, axis)\u001b[0m\n\u001b[0;32m    765\u001b[0m \u001b[38;5;66;03m# group might be modified\u001b[39;00m\n\u001b[0;32m    766\u001b[0m group_axes \u001b[38;5;241m=\u001b[39m group\u001b[38;5;241m.\u001b[39maxes\n\u001b[1;32m--> 767\u001b[0m res \u001b[38;5;241m=\u001b[39m \u001b[43mf\u001b[49m\u001b[43m(\u001b[49m\u001b[43mgroup\u001b[49m\u001b[43m)\u001b[49m\n\u001b[0;32m    768\u001b[0m \u001b[38;5;28;01mif\u001b[39;00m \u001b[38;5;129;01mnot\u001b[39;00m mutated \u001b[38;5;129;01mand\u001b[39;00m \u001b[38;5;129;01mnot\u001b[39;00m _is_indexed_like(res, group_axes, axis):\n\u001b[0;32m    769\u001b[0m     mutated \u001b[38;5;241m=\u001b[39m \u001b[38;5;28;01mTrue\u001b[39;00m\n",
      "Cell \u001b[1;32mIn[6], line 1\u001b[0m, in \u001b[0;36m<lambda>\u001b[1;34m(x)\u001b[0m\n\u001b[1;32m----> 1\u001b[0m weighted_avg \u001b[38;5;241m=\u001b[39m data\u001b[38;5;241m.\u001b[39mgroupby(\u001b[38;5;124m'\u001b[39m\u001b[38;5;124mfloor\u001b[39m\u001b[38;5;124m'\u001b[39m)\u001b[38;5;241m.\u001b[39mapply(\u001b[38;5;28;01mlambda\u001b[39;00m x: (x[\u001b[38;5;124m'\u001b[39m\u001b[38;5;124maltitude\u001b[39m\u001b[38;5;124m'\u001b[39m] \u001b[38;5;241m*\u001b[39m \u001b[43mx\u001b[49m\u001b[43m[\u001b[49m\u001b[38;5;124;43m'\u001b[39;49m\u001b[38;5;124;43maltitude_accuracy\u001b[39;49m\u001b[38;5;124;43m'\u001b[39;49m\u001b[43m]\u001b[49m)\u001b[38;5;241m.\u001b[39msum() \u001b[38;5;241m/\u001b[39m x[\u001b[38;5;124m'\u001b[39m\u001b[38;5;124maltitude_accuracy\u001b[39m\u001b[38;5;124m'\u001b[39m]\u001b[38;5;241m.\u001b[39msum())\n\u001b[0;32m      2\u001b[0m \u001b[38;5;28mprint\u001b[39m(weighted_avg)\n",
      "File \u001b[1;32mc:\\Python311\\Lib\\site-packages\\pandas\\core\\frame.py:3761\u001b[0m, in \u001b[0;36mDataFrame.__getitem__\u001b[1;34m(self, key)\u001b[0m\n\u001b[0;32m   3759\u001b[0m \u001b[38;5;28;01mif\u001b[39;00m \u001b[38;5;28mself\u001b[39m\u001b[38;5;241m.\u001b[39mcolumns\u001b[38;5;241m.\u001b[39mnlevels \u001b[38;5;241m>\u001b[39m \u001b[38;5;241m1\u001b[39m:\n\u001b[0;32m   3760\u001b[0m     \u001b[38;5;28;01mreturn\u001b[39;00m \u001b[38;5;28mself\u001b[39m\u001b[38;5;241m.\u001b[39m_getitem_multilevel(key)\n\u001b[1;32m-> 3761\u001b[0m indexer \u001b[38;5;241m=\u001b[39m \u001b[38;5;28;43mself\u001b[39;49m\u001b[38;5;241;43m.\u001b[39;49m\u001b[43mcolumns\u001b[49m\u001b[38;5;241;43m.\u001b[39;49m\u001b[43mget_loc\u001b[49m\u001b[43m(\u001b[49m\u001b[43mkey\u001b[49m\u001b[43m)\u001b[49m\n\u001b[0;32m   3762\u001b[0m \u001b[38;5;28;01mif\u001b[39;00m is_integer(indexer):\n\u001b[0;32m   3763\u001b[0m     indexer \u001b[38;5;241m=\u001b[39m [indexer]\n",
      "File \u001b[1;32mc:\\Python311\\Lib\\site-packages\\pandas\\core\\indexes\\base.py:3654\u001b[0m, in \u001b[0;36mIndex.get_loc\u001b[1;34m(self, key)\u001b[0m\n\u001b[0;32m   3652\u001b[0m     \u001b[38;5;28;01mreturn\u001b[39;00m \u001b[38;5;28mself\u001b[39m\u001b[38;5;241m.\u001b[39m_engine\u001b[38;5;241m.\u001b[39mget_loc(casted_key)\n\u001b[0;32m   3653\u001b[0m \u001b[38;5;28;01mexcept\u001b[39;00m \u001b[38;5;167;01mKeyError\u001b[39;00m \u001b[38;5;28;01mas\u001b[39;00m err:\n\u001b[1;32m-> 3654\u001b[0m     \u001b[38;5;28;01mraise\u001b[39;00m \u001b[38;5;167;01mKeyError\u001b[39;00m(key) \u001b[38;5;28;01mfrom\u001b[39;00m \u001b[38;5;21;01merr\u001b[39;00m\n\u001b[0;32m   3655\u001b[0m \u001b[38;5;28;01mexcept\u001b[39;00m \u001b[38;5;167;01mTypeError\u001b[39;00m:\n\u001b[0;32m   3656\u001b[0m     \u001b[38;5;66;03m# If we have a listlike key, _check_indexing_error will raise\u001b[39;00m\n\u001b[0;32m   3657\u001b[0m     \u001b[38;5;66;03m#  InvalidIndexError. Otherwise we fall through and re-raise\u001b[39;00m\n\u001b[0;32m   3658\u001b[0m     \u001b[38;5;66;03m#  the TypeError.\u001b[39;00m\n\u001b[0;32m   3659\u001b[0m     \u001b[38;5;28mself\u001b[39m\u001b[38;5;241m.\u001b[39m_check_indexing_error(key)\n",
      "\u001b[1;31mKeyError\u001b[0m: 'altitude_accuracy'"
     ]
    }
   ],
   "source": [
    "# weighted_avg = data.groupby('floor').apply(lambda x: (x['altitude'] * x['altitude_accuracy']).sum() / x['altitude_accuracy'].sum())\n",
    "# print(weighted_avg)"
   ]
  },
  {
   "cell_type": "code",
   "execution_count": 5,
   "metadata": {},
   "outputs": [
    {
     "data": {
      "text/plain": [
       "(12.9, 58.900000000000006)"
      ]
     },
     "execution_count": 5,
     "metadata": {},
     "output_type": "execute_result"
    }
   ],
   "source": [
    "lowest = data.loc[data['altitude'].idxmin()] \n",
    "highest = data.loc[data['altitude'].idxmax()]  \n",
    "lowest['altitude'],highest['altitude']"
   ]
  },
  {
   "cell_type": "code",
   "execution_count": 21,
   "metadata": {},
   "outputs": [
    {
     "name": "stdout",
     "output_type": "stream",
     "text": [
      "Leftmost-Topmost Point: (x:175, y:316, floor:-1, longitude: 34.81756666666667, latitude: 32.113205)\n",
      "Rightmost-Topmost Point: (x:1326, y:30, floor:0, longitude: 34.81849833333333, latitude: 32.11331833333334)\n",
      "Leftmost-Bottommost Point: (x:557, y:308, floor:0, longitude: 34.81800333333333, latitude: 32.113953333333335)\n"
     ]
    }
   ],
   "source": [
    "leftest_topest = data.loc[data['longitude'].idxmin()]  # Leftmost\n",
    "rightest_topest = data.loc[data['longitude'].idxmax()]  # Rightmost\n",
    "leftest_downest = data.loc[data['latitude'].idxmax()]  # Bottommost\n",
    "print(\"Leftmost-Topmost Point: (x:{}, y:{}, floor:{}, longitude: {}, latitude: {})\".format(leftest_topest['x'],leftest_topest['y'],leftest_topest['floor'],leftest_topest['longitude'], leftest_topest['latitude']))\n",
    "print(\"Rightmost-Topmost Point: (x:{}, y:{}, floor:{}, longitude: {}, latitude: {})\".format(rightest_topest['x'],rightest_topest['y'],rightest_topest['floor'],rightest_topest['longitude'], rightest_topest['latitude']))\n",
    "print(\"Leftmost-Bottommost Point: (x:{}, y:{}, floor:{}, longitude: {}, latitude: {})\".format(leftest_downest['x'],leftest_downest['y'],leftest_downest['floor'],leftest_downest['longitude'], leftest_downest['latitude']))\n"
   ]
  },
  {
   "cell_type": "code",
   "execution_count": 26,
   "metadata": {},
   "outputs": [
    {
     "data": {
      "text/plain": [
       "(x                    0\n",
       " y                   35\n",
       " longitude    34.817755\n",
       " latitude     32.113448\n",
       " Name: 24, dtype: object,\n",
       " x                 1326\n",
       " y                   30\n",
       " longitude    34.818498\n",
       " latitude     32.113318\n",
       " Name: 1, dtype: object,\n",
       " x                   35\n",
       " y                 1181\n",
       " longitude    34.817658\n",
       " latitude     32.112855\n",
       " Name: 167, dtype: object)"
      ]
     },
     "execution_count": 26,
     "metadata": {},
     "output_type": "execute_result"
    }
   ],
   "source": [
    "leftest_topest = data.loc[data['x'].idxmin()] # Leftmost\n",
    "rightest_topest = data.loc[data['x'].idxmax()] # Rightmost\n",
    "leftest_downest = data.loc[data['y'].idxmax()] # Bottommost\n",
    "leftest_topest[['x','y','longitude','latitude']],rightest_topest[['x','y','longitude','latitude']],leftest_downest[['x','y','longitude','latitude']]"
   ]
  },
  {
   "cell_type": "code",
   "execution_count": 39,
   "metadata": {},
   "outputs": [
    {
     "name": "stdout",
     "output_type": "stream",
     "text": [
      "{'x': 0, 'y': 35, 'longitude': 34.817755000000005, 'latitude': 32.11344833333333} {'x': 1326, 'y': 30, 'longitude': 34.81849833333333, 'latitude': 32.11331833333334} {'x': 35, 'y': 1181, 'longitude': 34.817658333333334, 'latitude': 32.112855}\n"
     ]
    }
   ],
   "source": [
    "lt = leftest_topest[['x','y','longitude','latitude']].to_dict()\n",
    "rt  = rightest_topest[['x','y','longitude','latitude']].to_dict()\n",
    "lb = leftest_downest[['x','y','longitude','latitude']].to_dict()\n",
    "print(lt,rt,lb)"
   ]
  },
  {
   "cell_type": "code",
   "execution_count": 40,
   "metadata": {},
   "outputs": [
    {
     "name": "stdout",
     "output_type": "stream",
     "text": [
      "Rightmost-Bottommost Point: (longitude: 34.818381552078776, latitude: 32.11272592560912)\n"
     ]
    }
   ],
   "source": [
    "\n",
    "\n",
    "# Define the known points\n",
    "# lt = {'x': 0, 'y': 35, 'longitude': 34.817755, 'latitude': 32.113448}\n",
    "# rt = {'x': 1326, 'y': 30, 'longitude': 34.818498, 'latitude': 32.113318}\n",
    "# lb = {'x': 35, 'y': 1181, 'longitude': 34.817658, 'latitude': 32.112855}\n",
    "\n",
    "# Coordinates of the bounding points\n",
    "points = np.array([\n",
    "    [lt['x'], lt['y']],\n",
    "    [rt['x'], rt['y']],\n",
    "    [lb['x'], lb['y']]\n",
    "])\n",
    "\n",
    "# Longitudes and latitudes of the bounding points\n",
    "longitudes = np.array([lt['longitude'], rt['longitude'], lb['longitude']])\n",
    "latitudes = np.array([lt['latitude'], rt['latitude'], lb['latitude']])\n",
    "\n",
    "# Define the point to be transformed\n",
    "point_to_transform = np.array([1326, 1181])\n",
    "\n",
    "# Calculate the transformation using linear algebra\n",
    "# Add a column of ones for the affine transformation\n",
    "points_ones = np.hstack([points, np.ones((points.shape[0], 1))])\n",
    "transform_matrix_longitude = np.linalg.lstsq(points_ones, longitudes, rcond=None)[0]\n",
    "transform_matrix_latitude = np.linalg.lstsq(points_ones, latitudes, rcond=None)[0]\n",
    "\n",
    "# Add a 1 to the point to be transformed\n",
    "point_to_transform_ones = np.hstack([point_to_transform, 1])\n",
    "\n",
    "# Calculate the transformed coordinates\n",
    "transformed_longitude = np.dot(point_to_transform_ones, transform_matrix_longitude)\n",
    "transformed_latitude = np.dot(point_to_transform_ones, transform_matrix_latitude)\n",
    "\n",
    "print(\"Rightmost-Bottommost Point: (longitude: {}, latitude: {})\".format(transformed_longitude, transformed_latitude))\n"
   ]
  },
  {
   "cell_type": "code",
   "execution_count": 19,
   "metadata": {},
   "outputs": [
    {
     "name": "stdout",
     "output_type": "stream",
     "text": [
      "Rightmost-Bottommost Point: (x: 1361, y: 1176)\n"
     ]
    }
   ],
   "source": [
    "# Coordinates of the bounding points\n",
    "leftest_topest_coord = np.array([leftest_topest['x'], leftest_topest['y']])\n",
    "rightest_topest_coord = np.array([rightest_topest['x'], rightest_topest['y']])\n",
    "leftest_downest_coord = np.array([leftest_downest['x'], leftest_downest['y']])\n",
    "\n",
    "# Calculate the vector from leftest_topest to rightest_topest\n",
    "vector_top = rightest_topest_coord - leftest_topest_coord\n",
    "\n",
    "# Assuming the rectangular map, calculate the vector from leftest_topest to leftest_downest\n",
    "vector_left = leftest_downest_coord - leftest_topest_coord\n",
    "\n",
    "# Calculate the rightest-downest point\n",
    "rightest_downest_coord = leftest_downest_coord + vector_top\n",
    "\n",
    "print(\"Rightmost-Bottommost Point: (x: {}, y: {})\".format(rightest_downest_coord[0], rightest_downest_coord[1]))"
   ]
  }
 ],
 "metadata": {
  "kernelspec": {
   "display_name": "Python 3",
   "language": "python",
   "name": "python3"
  },
  "language_info": {
   "codemirror_mode": {
    "name": "ipython",
    "version": 3
   },
   "file_extension": ".py",
   "mimetype": "text/x-python",
   "name": "python",
   "nbconvert_exporter": "python",
   "pygments_lexer": "ipython3",
   "version": "3.10.12"
  }
 },
 "nbformat": 4,
 "nbformat_minor": 2
}
